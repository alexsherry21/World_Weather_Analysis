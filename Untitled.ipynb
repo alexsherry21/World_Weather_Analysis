{
 "cells": [
  {
   "cell_type": "code",
   "execution_count": 23,
   "id": "62ada117",
   "metadata": {},
   "outputs": [],
   "source": [
    "#import the random module\n",
    "import random"
   ]
  },
  {
   "cell_type": "code",
   "execution_count": 24,
   "id": "e00fdf91",
   "metadata": {},
   "outputs": [
    {
     "data": {
      "text/plain": [
       "37"
      ]
     },
     "execution_count": 24,
     "metadata": {},
     "output_type": "execute_result"
    }
   ],
   "source": [
    "random.randint(-90,90)"
   ]
  },
  {
   "cell_type": "code",
   "execution_count": 25,
   "id": "429a61f3",
   "metadata": {},
   "outputs": [
    {
     "data": {
      "text/plain": [
       "0.5007844196050834"
      ]
     },
     "execution_count": 25,
     "metadata": {},
     "output_type": "execute_result"
    }
   ],
   "source": [
    "random.random()"
   ]
  },
  {
   "cell_type": "code",
   "execution_count": 26,
   "id": "c5b9ae3e",
   "metadata": {},
   "outputs": [],
   "source": [
    "x=1\n",
    "latitudes=[]\n",
    "while x<11:\n",
    "    random_lat = random.randint(-90, 89) + random.random()\n",
    "    latitudes.append(random_lat)\n",
    "    x += 1"
   ]
  },
  {
   "cell_type": "code",
   "execution_count": 27,
   "id": "7183a9cd",
   "metadata": {},
   "outputs": [
    {
     "data": {
      "text/plain": [
       "[53.998464174465724,\n",
       " 64.25211634745305,\n",
       " -74.5803766154757,\n",
       " 34.66675947255284,\n",
       " 42.698062530936106,\n",
       " -59.420202278582025,\n",
       " -75.4858797364082,\n",
       " -60.77382017536674,\n",
       " 48.608126849010524,\n",
       " -48.25180226610131]"
      ]
     },
     "execution_count": 27,
     "metadata": {},
     "output_type": "execute_result"
    }
   ],
   "source": [
    "latitudes"
   ]
  },
  {
   "cell_type": "code",
   "execution_count": 28,
   "id": "672d9f25",
   "metadata": {},
   "outputs": [
    {
     "data": {
      "text/plain": [
       "89"
      ]
     },
     "execution_count": 28,
     "metadata": {},
     "output_type": "execute_result"
    }
   ],
   "source": [
    "random.randrange(-90,90, step=1)"
   ]
  },
  {
   "cell_type": "code",
   "execution_count": 29,
   "id": "8f448507",
   "metadata": {},
   "outputs": [
    {
     "data": {
      "text/plain": [
       "-27"
      ]
     },
     "execution_count": 29,
     "metadata": {},
     "output_type": "execute_result"
    }
   ],
   "source": [
    "random.randrange(-90,90,step=3)"
   ]
  },
  {
   "cell_type": "code",
   "execution_count": 30,
   "id": "3a79171f",
   "metadata": {},
   "outputs": [
    {
     "data": {
      "text/plain": [
       "-18.258631156018154"
      ]
     },
     "execution_count": 30,
     "metadata": {},
     "output_type": "execute_result"
    }
   ],
   "source": [
    "random.uniform(-90,90)"
   ]
  },
  {
   "cell_type": "code",
   "execution_count": 31,
   "id": "1b24876b",
   "metadata": {},
   "outputs": [],
   "source": [
    "#import the NumPy module\n",
    "import numpy as np"
   ]
  },
  {
   "cell_type": "code",
   "execution_count": 32,
   "id": "49932e3d",
   "metadata": {},
   "outputs": [
    {
     "data": {
      "text/plain": [
       "array([-12.53257474, -38.83637041, -53.88725356, -56.5468103 ,\n",
       "        80.25871105,  54.45551423, -85.97532591,  47.24337822,\n",
       "       -57.97944505, -78.2068311 , -61.18761738, -72.44023447,\n",
       "       -55.42766753,  30.49790682, -20.80921888,  81.243423  ,\n",
       "       -49.95696043, -27.88783297,  64.60261646,  77.12882745,\n",
       "        79.55762414, -36.78364834,  62.3652664 , -27.06790368,\n",
       "        15.42511654,   5.21885651,  79.27873625,  -1.16560193,\n",
       "       -35.7272944 ,  19.38092446, -66.16902779,  60.13520098,\n",
       "        47.80810236, -20.42522409,  41.64237365, -13.02042359,\n",
       "       -48.78840567,  -7.25726372, -78.01731145, -12.18927192,\n",
       "        -8.99081895, -70.79318047, -67.95879379, -75.66811913,\n",
       "       -36.71433924,   9.63435789, -50.340743  ,  44.28774362,\n",
       "       -88.9544325 ,  60.99936354])"
      ]
     },
     "execution_count": 32,
     "metadata": {},
     "output_type": "execute_result"
    }
   ],
   "source": [
    "np.random.uniform(-90.000,90.000, size=50)"
   ]
  },
  {
   "cell_type": "code",
   "execution_count": 36,
   "id": "5c87773a",
   "metadata": {},
   "outputs": [],
   "source": [
    "import timeit"
   ]
  },
  {
   "cell_type": "code",
   "execution_count": 42,
   "id": "93ed95a3",
   "metadata": {},
   "outputs": [
    {
     "name": "stdout",
     "output_type": "stream",
     "text": [
      "17.5 µs ± 305 ns per loop (mean ± std. dev. of 7 runs, 100000 loops each)\n"
     ]
    }
   ],
   "source": [
    "%timeit np.random.uniform(-90.00,90.00,size=1500)"
   ]
  },
  {
   "cell_type": "code",
   "execution_count": 43,
   "id": "c0291c9c",
   "metadata": {},
   "outputs": [
    {
     "name": "stdout",
     "output_type": "stream",
     "text": [
      "3.36 ms ± 326 µs per loop (mean ± std. dev. of 7 runs, 100 loops each)\n"
     ]
    }
   ],
   "source": [
    "def latitudes(size):\n",
    "    latitudes=[]\n",
    "    x=0\n",
    "    while x<(size):\n",
    "        random_lat=random.randint(-90,90)+random.random()\n",
    "        latitudes.append(random_lat)\n",
    "        x += 1\n",
    "    return latitudes\n",
    "#call the function with 1500\n",
    "%timeit latitudes(1500)"
   ]
  }
 ],
 "metadata": {
  "kernelspec": {
   "display_name": "PythonData",
   "language": "python",
   "name": "pythondata"
  },
  "language_info": {
   "codemirror_mode": {
    "name": "ipython",
    "version": 3
   },
   "file_extension": ".py",
   "mimetype": "text/x-python",
   "name": "python",
   "nbconvert_exporter": "python",
   "pygments_lexer": "ipython3",
   "version": "3.7.11"
  }
 },
 "nbformat": 4,
 "nbformat_minor": 5
}
